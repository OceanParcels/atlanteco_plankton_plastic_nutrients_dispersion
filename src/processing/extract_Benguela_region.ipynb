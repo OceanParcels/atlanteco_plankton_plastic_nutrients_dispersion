{
 "cells": [
  {
   "cell_type": "code",
   "execution_count": 1,
   "metadata": {},
   "outputs": [],
   "source": [
    "import numpy as np\n",
    "import xarray as xr\n",
    "import matplotlib.pyplot as plt\n",
    "import matplotlib.colors as clr\n",
    "from scipy.interpolate import griddata"
   ]
  },
  {
   "cell_type": "code",
   "execution_count": 2,
   "metadata": {},
   "outputs": [],
   "source": [
    "home_folder = '/storage/shared/oceanparcels/input_data/NEMO16_CMCC/'\n",
    "# we need to coordinates file to access the corner points - glamf/gphif\n",
    "model_mask_file = home_folder + 'GLOB16L98_mesh_mask_atlantic.nc'\n",
    "\n",
    "mask_ds = xr.open_dataset(model_mask_file, decode_times=False).load()\n",
    "mask_lon = mask_ds['glamf'].values\n",
    "mask_lat = mask_ds['gphif'].values\n",
    "mask_land = mask_ds['tmask'].values[:,0,:,:]"
   ]
  },
  {
   "cell_type": "code",
   "execution_count": 3,
   "metadata": {},
   "outputs": [
    {
     "name": "stdout",
     "output_type": "stream",
     "text": [
      "(401, 257)\n"
     ]
    }
   ],
   "source": [
    "# left_lon = 0\n",
    "# right_lon = 20\n",
    "# top_lat = -10\n",
    "# bottom_lat = -40 #120579 particles- memory allocation error with np.meshgrid\n",
    "left_lon = 5\n",
    "right_lon = 21\n",
    "top_lat = -15\n",
    "bottom_lat = -40\n",
    "\n",
    "delta = 0.0625\n",
    "# delta = 0.25\n",
    "\n",
    "lons = np.arange(left_lon, right_lon + delta, delta)\n",
    "lats = np.arange(bottom_lat, top_lat + delta, delta)\n",
    "regions_lons, regions_lats = np.meshgrid(lons, lats)\n",
    "print(regions_lons.shape)"
   ]
  },
  {
   "cell_type": "code",
   "execution_count": 4,
   "metadata": {},
   "outputs": [
    {
     "data": {
      "image/png": "[encoded data removed]",
      "text/plain": [
       "<Figure size 432x288 with 1 Axes>"
      ]
     },
     "metadata": {
      "needs_background": "light"
     },
     "output_type": "display_data"
    }
   ],
   "source": [
    "fig = plt.figure()\n",
    "ax = plt.axes()\n",
    "colormap = clr.ListedColormap(['gainsboro', 'white'])\n",
    "\n",
    "# Near Amazon river- 4-5 month simulations\n",
    "ax.pcolormesh(mask_lon[0, 1249:1750, 1499:], mask_lat[0, 1249:1750, 1499:], mask_land[0, 1250:1750, 1500:], cmap=colormap)\n",
    "ax.scatter(regions_lons, regions_lats, c='red', s=0.2, alpha=0.1)\n",
    "plt.show()"
   ]
  },
  {
   "attachments": {},
   "cell_type": "markdown",
   "metadata": {},
   "source": [
    "Using full matrix (**FULLm**) for ease of FTLE computation- needs 2D grid with defined corners and not coastline. "
   ]
  },
  {
   "cell_type": "code",
   "execution_count": 8,
   "metadata": {},
   "outputs": [],
   "source": [
    "np.savez_compressed('/nethome/manra003/analysis/dispersion/Benguela_0pt0625_FULLm_release_points.npz',\n",
    "                    Longitude=regions_lons,\n",
    "                    Latitude=regions_lats)"
   ]
  },
  {
   "attachments": {},
   "cell_type": "markdown",
   "metadata": {},
   "source": [
    "No need to remove land points"
   ]
  },
  {
   "cell_type": "code",
   "execution_count": 11,
   "metadata": {},
   "outputs": [
    {
     "data": {
      "image/png": "[encoded data removed]",
      "text/plain": [
       "<Figure size 432x288 with 1 Axes>"
      ]
     },
     "metadata": {
      "needs_background": "light"
     },
     "output_type": "display_data"
    }
   ],
   "source": [
    "land_val_release = griddata((mask_lon.ravel(), mask_lat.ravel()), mask_land.ravel(),\n",
    "                            (regions_lons, regions_lats), method='linear', fill_value=0)\n",
    "bool_mask = land_val_release.astype(bool)\n",
    "\n",
    "fig = plt.figure()\n",
    "ax = plt.axes()\n",
    "colormap = clr.ListedColormap(['gainsboro', 'white'])\n",
    "\n",
    "# Near Amazon river- 4-5 month simulations\n",
    "ax.pcolormesh(mask_lon[0, 1249:1750, 1499:], mask_lat[0, 1249:1750, 1499:], mask_land[0, 1250:1750, 1500:], cmap=colormap)\n",
    "\n",
    "\n",
    "release_lons = regions_lons[bool_mask]\n",
    "release_lats = regions_lats[bool_mask]\n",
    "\n",
    "ax.scatter(release_lons, release_lats, s=0.3)\n",
    "plt.show()"
   ]
  },
  {
   "cell_type": "code",
   "execution_count": 12,
   "metadata": {},
   "outputs": [
    {
     "data": {
      "text/plain": [
       "7639"
      ]
     },
     "execution_count": 12,
     "metadata": {},
     "output_type": "execute_result"
    }
   ],
   "source": [
    "len(release_lons) #120579"
   ]
  }
 ],
 "metadata": {
  "kernelspec": {
   "display_name": "Python 3",
   "language": "python",
   "name": "python3"
  },
  "language_info": {
   "codemirror_mode": {
    "name": "ipython",
    "version": 3
   },
   "file_extension": ".py",
   "mimetype": "text/x-python",
   "name": "python",
   "nbconvert_exporter": "python",
   "pygments_lexer": "ipython3",
   "version": "3.8.11"
  },
  "orig_nbformat": 4
 },
 "nbformat": 4,
 "nbformat_minor": 2
}
