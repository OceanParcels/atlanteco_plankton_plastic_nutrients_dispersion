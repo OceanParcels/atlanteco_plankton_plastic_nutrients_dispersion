{
 "cells": [
  {
   "cell_type": "markdown",
   "metadata": {},
   "source": [
    "<h2>Automate Simulation runs in remote server</h2>"
   ]
  },
  {
   "cell_type": "markdown",
   "metadata": {},
   "source": [
    "<h5>This is a guide to set up automated simulation runs of a python code on a remote server. This will allow one to run qsub jobs in series.</h5>"
   ]
  },
  {
   "cell_type": "markdown",
   "metadata": {},
   "source": [
    "<h3>Step 1: Create a new executable schell script</h3>"
   ]
  },
  {
   "cell_type": "markdown",
   "metadata": {},
   "source": [
    "<h5>write an executable shell script (here called Run_loop.sh) over \"experiment.sh\" file to pass arguments. Eg below: run a simulation for each month from 2009-2012 passing the year, month and day as parameters to the other shell script.</h5>"
   ]
  },
  {
   "cell_type": "raw",
   "metadata": {},
   "source": [
    "#!/bin/bash\n",
    "# for a string array\n",
    "# months=(Jul Aug Sep Oct Nov Dec)\n",
    "startday=15\n",
    "\n",
    "for yr in {2009..2012}\n",
    "do\n",
    "    for mon in {1..12}\n",
    "    # for mon in \"${months[@]}\"\n",
    "    do\n",
    "        # Job name is set here- allows configuration of the name for each job based on the \n",
    "        \n",
    "        qsub -V -N FullTara_Res5_TS_${startday}${mon}${yr}_dt600 experiment.sh $yr $mon $startday\n",
    "        \n",
    "        # sleep time should be set based on the average run time of your simulation  \n",
    "        # avoid running too many simulations on the shared gemini server \n",
    "        sleep 70m     \n",
    "    done    \n",
    "done"
   ]
  },
  {
   "cell_type": "markdown",
   "metadata": {},
   "source": [
    "<h3> Step 2: Pass arguments received in experiment.sh file to the Python simulation</h3>"
   ]
  },
  {
   "cell_type": "raw",
   "metadata": {},
   "source": [
    "echo 'Loading parcels ...'\n",
    "echo 'Running simulation....'\n",
    "echo 'year: '$1, 'month: '$2, 'day: '$3\n",
    "cd ${HOME}/<projectfolder>/\n",
    "python3 <program>.py $1 $2 $3\n",
    "echo 'Finished computation.'"
   ]
  },
  {
   "cell_type": "markdown",
   "metadata": {},
   "source": [
    "> Note: remove the Jobname from the experiment.sh file as it has already been assigned in the qsub call"
   ]
  },
  {
   "cell_type": "markdown",
   "metadata": {},
   "source": [
    "<h3> Step 3: setup to be completed before executing the run</h3>"
   ]
  },
  {
   "cell_type": "markdown",
   "metadata": {},
   "source": [
    "<h5>Make the shell script as executable. Run the following in your terminal</h5>"
   ]
  },
  {
   "cell_type": "raw",
   "metadata": {},
   "source": [
    "chmod +x Run_loop.sh"
   ]
  },
  {
   "cell_type": "markdown",
   "metadata": {},
   "source": [
    "<h5>Run the script as a background process from the server terminal</h5>"
   ]
  },
  {
   "cell_type": "raw",
   "metadata": {},
   "source": [
    "nohup ./Run_loop.sh > outputfile.out &"
   ]
  },
  {
   "cell_type": "markdown",
   "metadata": {},
   "source": [
    "<h5>in case you encounter a problem, get the process ID and kill the process</h5>"
   ]
  },
  {
   "cell_type": "raw",
   "metadata": {},
   "source": [
    "top -u <userid>\n",
    "kill <PID>"
   ]
  }
 ],
 "metadata": {
  "kernelspec": {
   "display_name": "Python 3",
   "language": "python",
   "name": "python3"
  },
  "language_info": {
   "codemirror_mode": {
    "name": "ipython",
    "version": 3
   },
   "file_extension": ".py",
   "mimetype": "text/x-python",
   "name": "python",
   "nbconvert_exporter": "python",
   "pygments_lexer": "ipython3",
   "version": "3.6.8"
  }
 },
 "nbformat": 4,
 "nbformat_minor": 4
}
